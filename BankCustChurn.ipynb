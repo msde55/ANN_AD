{
 "cells": [
  {
   "cell_type": "code",
   "execution_count": 78,
   "metadata": {},
   "outputs": [],
   "source": [
    "import pandas as pd\n",
    "import numpy as np\n",
    "import tensorflow as tf"
   ]
  },
  {
   "cell_type": "code",
   "execution_count": 79,
   "metadata": {},
   "outputs": [],
   "source": [
    "rawdata = pd.read_csv(\"Churn_Modelling.csv\")"
   ]
  },
  {
   "cell_type": "code",
   "execution_count": 80,
   "metadata": {},
   "outputs": [
    {
     "data": {
      "text/html": [
       "<div>\n",
       "<style scoped>\n",
       "    .dataframe tbody tr th:only-of-type {\n",
       "        vertical-align: middle;\n",
       "    }\n",
       "\n",
       "    .dataframe tbody tr th {\n",
       "        vertical-align: top;\n",
       "    }\n",
       "\n",
       "    .dataframe thead th {\n",
       "        text-align: right;\n",
       "    }\n",
       "</style>\n",
       "<table border=\"1\" class=\"dataframe\">\n",
       "  <thead>\n",
       "    <tr style=\"text-align: right;\">\n",
       "      <th></th>\n",
       "      <th>RowNumber</th>\n",
       "      <th>CustomerId</th>\n",
       "      <th>Surname</th>\n",
       "      <th>CreditScore</th>\n",
       "      <th>Geography</th>\n",
       "      <th>Gender</th>\n",
       "      <th>Age</th>\n",
       "      <th>Tenure</th>\n",
       "      <th>Balance</th>\n",
       "      <th>NumOfProducts</th>\n",
       "      <th>HasCrCard</th>\n",
       "      <th>IsActiveMember</th>\n",
       "      <th>EstimatedSalary</th>\n",
       "      <th>Exited</th>\n",
       "    </tr>\n",
       "  </thead>\n",
       "  <tbody>\n",
       "    <tr>\n",
       "      <th>0</th>\n",
       "      <td>1</td>\n",
       "      <td>15634602</td>\n",
       "      <td>Hargrave</td>\n",
       "      <td>619</td>\n",
       "      <td>France</td>\n",
       "      <td>Female</td>\n",
       "      <td>42</td>\n",
       "      <td>2</td>\n",
       "      <td>0.00</td>\n",
       "      <td>1</td>\n",
       "      <td>1</td>\n",
       "      <td>1</td>\n",
       "      <td>101348.88</td>\n",
       "      <td>1</td>\n",
       "    </tr>\n",
       "    <tr>\n",
       "      <th>1</th>\n",
       "      <td>2</td>\n",
       "      <td>15647311</td>\n",
       "      <td>Hill</td>\n",
       "      <td>608</td>\n",
       "      <td>Spain</td>\n",
       "      <td>Female</td>\n",
       "      <td>41</td>\n",
       "      <td>1</td>\n",
       "      <td>83807.86</td>\n",
       "      <td>1</td>\n",
       "      <td>0</td>\n",
       "      <td>1</td>\n",
       "      <td>112542.58</td>\n",
       "      <td>0</td>\n",
       "    </tr>\n",
       "    <tr>\n",
       "      <th>2</th>\n",
       "      <td>3</td>\n",
       "      <td>15619304</td>\n",
       "      <td>Onio</td>\n",
       "      <td>502</td>\n",
       "      <td>France</td>\n",
       "      <td>Female</td>\n",
       "      <td>42</td>\n",
       "      <td>8</td>\n",
       "      <td>159660.80</td>\n",
       "      <td>3</td>\n",
       "      <td>1</td>\n",
       "      <td>0</td>\n",
       "      <td>113931.57</td>\n",
       "      <td>1</td>\n",
       "    </tr>\n",
       "    <tr>\n",
       "      <th>3</th>\n",
       "      <td>4</td>\n",
       "      <td>15701354</td>\n",
       "      <td>Boni</td>\n",
       "      <td>699</td>\n",
       "      <td>France</td>\n",
       "      <td>Female</td>\n",
       "      <td>39</td>\n",
       "      <td>1</td>\n",
       "      <td>0.00</td>\n",
       "      <td>2</td>\n",
       "      <td>0</td>\n",
       "      <td>0</td>\n",
       "      <td>93826.63</td>\n",
       "      <td>0</td>\n",
       "    </tr>\n",
       "    <tr>\n",
       "      <th>4</th>\n",
       "      <td>5</td>\n",
       "      <td>15737888</td>\n",
       "      <td>Mitchell</td>\n",
       "      <td>850</td>\n",
       "      <td>Spain</td>\n",
       "      <td>Female</td>\n",
       "      <td>43</td>\n",
       "      <td>2</td>\n",
       "      <td>125510.82</td>\n",
       "      <td>1</td>\n",
       "      <td>1</td>\n",
       "      <td>1</td>\n",
       "      <td>79084.10</td>\n",
       "      <td>0</td>\n",
       "    </tr>\n",
       "    <tr>\n",
       "      <th>...</th>\n",
       "      <td>...</td>\n",
       "      <td>...</td>\n",
       "      <td>...</td>\n",
       "      <td>...</td>\n",
       "      <td>...</td>\n",
       "      <td>...</td>\n",
       "      <td>...</td>\n",
       "      <td>...</td>\n",
       "      <td>...</td>\n",
       "      <td>...</td>\n",
       "      <td>...</td>\n",
       "      <td>...</td>\n",
       "      <td>...</td>\n",
       "      <td>...</td>\n",
       "    </tr>\n",
       "    <tr>\n",
       "      <th>9995</th>\n",
       "      <td>9996</td>\n",
       "      <td>15606229</td>\n",
       "      <td>Obijiaku</td>\n",
       "      <td>771</td>\n",
       "      <td>France</td>\n",
       "      <td>Male</td>\n",
       "      <td>39</td>\n",
       "      <td>5</td>\n",
       "      <td>0.00</td>\n",
       "      <td>2</td>\n",
       "      <td>1</td>\n",
       "      <td>0</td>\n",
       "      <td>96270.64</td>\n",
       "      <td>0</td>\n",
       "    </tr>\n",
       "    <tr>\n",
       "      <th>9996</th>\n",
       "      <td>9997</td>\n",
       "      <td>15569892</td>\n",
       "      <td>Johnstone</td>\n",
       "      <td>516</td>\n",
       "      <td>France</td>\n",
       "      <td>Male</td>\n",
       "      <td>35</td>\n",
       "      <td>10</td>\n",
       "      <td>57369.61</td>\n",
       "      <td>1</td>\n",
       "      <td>1</td>\n",
       "      <td>1</td>\n",
       "      <td>101699.77</td>\n",
       "      <td>0</td>\n",
       "    </tr>\n",
       "    <tr>\n",
       "      <th>9997</th>\n",
       "      <td>9998</td>\n",
       "      <td>15584532</td>\n",
       "      <td>Liu</td>\n",
       "      <td>709</td>\n",
       "      <td>France</td>\n",
       "      <td>Female</td>\n",
       "      <td>36</td>\n",
       "      <td>7</td>\n",
       "      <td>0.00</td>\n",
       "      <td>1</td>\n",
       "      <td>0</td>\n",
       "      <td>1</td>\n",
       "      <td>42085.58</td>\n",
       "      <td>1</td>\n",
       "    </tr>\n",
       "    <tr>\n",
       "      <th>9998</th>\n",
       "      <td>9999</td>\n",
       "      <td>15682355</td>\n",
       "      <td>Sabbatini</td>\n",
       "      <td>772</td>\n",
       "      <td>Germany</td>\n",
       "      <td>Male</td>\n",
       "      <td>42</td>\n",
       "      <td>3</td>\n",
       "      <td>75075.31</td>\n",
       "      <td>2</td>\n",
       "      <td>1</td>\n",
       "      <td>0</td>\n",
       "      <td>92888.52</td>\n",
       "      <td>1</td>\n",
       "    </tr>\n",
       "    <tr>\n",
       "      <th>9999</th>\n",
       "      <td>10000</td>\n",
       "      <td>15628319</td>\n",
       "      <td>Walker</td>\n",
       "      <td>792</td>\n",
       "      <td>France</td>\n",
       "      <td>Female</td>\n",
       "      <td>28</td>\n",
       "      <td>4</td>\n",
       "      <td>130142.79</td>\n",
       "      <td>1</td>\n",
       "      <td>1</td>\n",
       "      <td>0</td>\n",
       "      <td>38190.78</td>\n",
       "      <td>0</td>\n",
       "    </tr>\n",
       "  </tbody>\n",
       "</table>\n",
       "<p>10000 rows × 14 columns</p>\n",
       "</div>"
      ],
      "text/plain": [
       "      RowNumber  CustomerId    Surname  CreditScore Geography  Gender  Age  \\\n",
       "0             1    15634602   Hargrave          619    France  Female   42   \n",
       "1             2    15647311       Hill          608     Spain  Female   41   \n",
       "2             3    15619304       Onio          502    France  Female   42   \n",
       "3             4    15701354       Boni          699    France  Female   39   \n",
       "4             5    15737888   Mitchell          850     Spain  Female   43   \n",
       "...         ...         ...        ...          ...       ...     ...  ...   \n",
       "9995       9996    15606229   Obijiaku          771    France    Male   39   \n",
       "9996       9997    15569892  Johnstone          516    France    Male   35   \n",
       "9997       9998    15584532        Liu          709    France  Female   36   \n",
       "9998       9999    15682355  Sabbatini          772   Germany    Male   42   \n",
       "9999      10000    15628319     Walker          792    France  Female   28   \n",
       "\n",
       "      Tenure    Balance  NumOfProducts  HasCrCard  IsActiveMember  \\\n",
       "0          2       0.00              1          1               1   \n",
       "1          1   83807.86              1          0               1   \n",
       "2          8  159660.80              3          1               0   \n",
       "3          1       0.00              2          0               0   \n",
       "4          2  125510.82              1          1               1   \n",
       "...      ...        ...            ...        ...             ...   \n",
       "9995       5       0.00              2          1               0   \n",
       "9996      10   57369.61              1          1               1   \n",
       "9997       7       0.00              1          0               1   \n",
       "9998       3   75075.31              2          1               0   \n",
       "9999       4  130142.79              1          1               0   \n",
       "\n",
       "      EstimatedSalary  Exited  \n",
       "0           101348.88       1  \n",
       "1           112542.58       0  \n",
       "2           113931.57       1  \n",
       "3            93826.63       0  \n",
       "4            79084.10       0  \n",
       "...               ...     ...  \n",
       "9995         96270.64       0  \n",
       "9996        101699.77       0  \n",
       "9997         42085.58       1  \n",
       "9998         92888.52       1  \n",
       "9999         38190.78       0  \n",
       "\n",
       "[10000 rows x 14 columns]"
      ]
     },
     "execution_count": 80,
     "metadata": {},
     "output_type": "execute_result"
    }
   ],
   "source": [
    "rawdata"
   ]
  },
  {
   "attachments": {},
   "cell_type": "markdown",
   "metadata": {},
   "source": [
    "Row Number, Customer ID, Surname won't play a role in prediction hence they are dropped. "
   ]
  },
  {
   "cell_type": "code",
   "execution_count": 81,
   "metadata": {},
   "outputs": [],
   "source": [
    "#Matrix of Features\n",
    "x = rawdata.iloc[:,3:-1].values"
   ]
  },
  {
   "cell_type": "code",
   "execution_count": 82,
   "metadata": {},
   "outputs": [],
   "source": [
    "#Matrix of Target variable\n",
    "y = rawdata.iloc[:,-1].values"
   ]
  },
  {
   "attachments": {},
   "cell_type": "markdown",
   "metadata": {},
   "source": [
    "Country and Gender are categorical data"
   ]
  },
  {
   "cell_type": "code",
   "execution_count": 83,
   "metadata": {},
   "outputs": [],
   "source": [
    "#Gender - Label Encoding\n",
    "\n",
    "from sklearn.preprocessing import LabelEncoder\n",
    "le = LabelEncoder()\n",
    "x[:,2] = le.fit_transform(x[:,2])\n"
   ]
  },
  {
   "cell_type": "code",
   "execution_count": 84,
   "metadata": {},
   "outputs": [],
   "source": [
    "#Country - 1-Hot Encoding\n",
    "from sklearn.compose import ColumnTransformer\n",
    "from sklearn.preprocessing import OneHotEncoder\n",
    "\n",
    "ct = ColumnTransformer(transformers=[('encoder', OneHotEncoder(), [1])], remainder='passthrough')\n",
    "\n",
    "x = np.array(ct.fit_transform(x))"
   ]
  },
  {
   "cell_type": "code",
   "execution_count": 85,
   "metadata": {},
   "outputs": [],
   "source": [
    "from sklearn.model_selection import train_test_split\n",
    "\n",
    "X_train, X_test, Y_train, Y_test = train_test_split(x,y,test_size=0.2, random_state=0)"
   ]
  },
  {
   "attachments": {},
   "cell_type": "markdown",
   "metadata": {},
   "source": [
    "Apart from usual, Scaling 1) improves optimization, hence smoothens the gradient descent 2) helps minimize the cost function quickly."
   ]
  },
  {
   "cell_type": "code",
   "execution_count": 86,
   "metadata": {},
   "outputs": [],
   "source": [
    "#Scaling\n",
    "from sklearn.preprocessing import StandardScaler\n",
    "sc = StandardScaler()\n",
    "X_train = sc.fit_transform(X_train)\n",
    "X_test = sc.transform(X_test)"
   ]
  },
  {
   "cell_type": "code",
   "execution_count": 87,
   "metadata": {},
   "outputs": [],
   "source": [
    "#Initialize ANN Model\n",
    "ann = tf.keras.Sequential()"
   ]
  },
  {
   "attachments": {},
   "cell_type": "markdown",
   "metadata": {},
   "source": [
    "units - randomly chosen, no right answer, comes from experience or hit & trial"
   ]
  },
  {
   "cell_type": "code",
   "execution_count": 88,
   "metadata": {},
   "outputs": [],
   "source": [
    "# Add first, hidden and second layer\n",
    "ann.add(tf.keras.layers.Dense(units=6, activation='relu'))\n",
    "ann.add(tf.keras.layers.Dense(units=6, activation='relu'))"
   ]
  },
  {
   "attachments": {},
   "cell_type": "markdown",
   "metadata": {},
   "source": [
    "Output Layer - Prediction of binary output (Churn - Yes or No)."
   ]
  },
  {
   "cell_type": "code",
   "execution_count": 89,
   "metadata": {},
   "outputs": [],
   "source": [
    "#Add output layer\n",
    "ann.add(tf.keras.layers.Dense(units=1, activation='sigmoid'))"
   ]
  },
  {
   "attachments": {},
   "cell_type": "markdown",
   "metadata": {},
   "source": [
    "Model Compiling - Define optimizer, loss, metrics"
   ]
  },
  {
   "cell_type": "code",
   "execution_count": 90,
   "metadata": {},
   "outputs": [],
   "source": [
    "ann.compile(optimizer = 'adam', loss = 'binary_crossentropy', metrics = ['accuracy'])"
   ]
  },
  {
   "cell_type": "code",
   "execution_count": 91,
   "metadata": {},
   "outputs": [
    {
     "name": "stdout",
     "output_type": "stream",
     "text": [
      "Epoch 1/100\n"
     ]
    },
    {
     "name": "stdout",
     "output_type": "stream",
     "text": [
      "250/250 [==============================] - 1s 574us/step - loss: 0.6068 - accuracy: 0.7216\n",
      "Epoch 2/100\n",
      "250/250 [==============================] - 0s 570us/step - loss: 0.4845 - accuracy: 0.7960\n",
      "Epoch 3/100\n",
      "250/250 [==============================] - 0s 565us/step - loss: 0.4585 - accuracy: 0.7997\n",
      "Epoch 4/100\n",
      "250/250 [==============================] - 0s 575us/step - loss: 0.4457 - accuracy: 0.8048\n",
      "Epoch 5/100\n",
      "250/250 [==============================] - 0s 627us/step - loss: 0.4377 - accuracy: 0.8086\n",
      "Epoch 6/100\n",
      "250/250 [==============================] - 0s 587us/step - loss: 0.4318 - accuracy: 0.8102\n",
      "Epoch 7/100\n",
      "250/250 [==============================] - 0s 642us/step - loss: 0.4266 - accuracy: 0.8142\n",
      "Epoch 8/100\n",
      "250/250 [==============================] - 0s 592us/step - loss: 0.4208 - accuracy: 0.8166\n",
      "Epoch 9/100\n",
      "250/250 [==============================] - 0s 568us/step - loss: 0.4125 - accuracy: 0.8201\n",
      "Epoch 10/100\n",
      "250/250 [==============================] - 0s 598us/step - loss: 0.4025 - accuracy: 0.8299\n",
      "Epoch 11/100\n",
      "250/250 [==============================] - 0s 653us/step - loss: 0.3901 - accuracy: 0.8375\n",
      "Epoch 12/100\n",
      "250/250 [==============================] - 0s 578us/step - loss: 0.3781 - accuracy: 0.8443\n",
      "Epoch 13/100\n",
      "250/250 [==============================] - 0s 579us/step - loss: 0.3687 - accuracy: 0.8516\n",
      "Epoch 14/100\n",
      "250/250 [==============================] - 0s 573us/step - loss: 0.3608 - accuracy: 0.8546\n",
      "Epoch 15/100\n",
      "250/250 [==============================] - 0s 583us/step - loss: 0.3552 - accuracy: 0.8569\n",
      "Epoch 16/100\n",
      "250/250 [==============================] - 0s 764us/step - loss: 0.3511 - accuracy: 0.8572\n",
      "Epoch 17/100\n",
      "250/250 [==============================] - 0s 590us/step - loss: 0.3479 - accuracy: 0.8611\n",
      "Epoch 18/100\n",
      "250/250 [==============================] - 0s 580us/step - loss: 0.3455 - accuracy: 0.8594\n",
      "Epoch 19/100\n",
      "250/250 [==============================] - 0s 588us/step - loss: 0.3435 - accuracy: 0.8595\n",
      "Epoch 20/100\n",
      "250/250 [==============================] - 0s 578us/step - loss: 0.3423 - accuracy: 0.8621\n",
      "Epoch 21/100\n",
      "250/250 [==============================] - 0s 571us/step - loss: 0.3408 - accuracy: 0.8643\n",
      "Epoch 22/100\n",
      "250/250 [==============================] - 0s 580us/step - loss: 0.3401 - accuracy: 0.8641\n",
      "Epoch 23/100\n",
      "250/250 [==============================] - 0s 584us/step - loss: 0.3391 - accuracy: 0.8637\n",
      "Epoch 24/100\n",
      "250/250 [==============================] - 0s 653us/step - loss: 0.3392 - accuracy: 0.8631\n",
      "Epoch 25/100\n",
      "250/250 [==============================] - 0s 625us/step - loss: 0.3387 - accuracy: 0.8637\n",
      "Epoch 26/100\n",
      "250/250 [==============================] - 0s 603us/step - loss: 0.3385 - accuracy: 0.8643\n",
      "Epoch 27/100\n",
      "250/250 [==============================] - 0s 572us/step - loss: 0.3378 - accuracy: 0.8637\n",
      "Epoch 28/100\n",
      "250/250 [==============================] - 0s 576us/step - loss: 0.3380 - accuracy: 0.8639\n",
      "Epoch 29/100\n",
      "250/250 [==============================] - 0s 586us/step - loss: 0.3376 - accuracy: 0.8648\n",
      "Epoch 30/100\n",
      "250/250 [==============================] - 0s 577us/step - loss: 0.3375 - accuracy: 0.8659\n",
      "Epoch 31/100\n",
      "250/250 [==============================] - 0s 605us/step - loss: 0.3372 - accuracy: 0.8635\n",
      "Epoch 32/100\n",
      "250/250 [==============================] - 0s 596us/step - loss: 0.3369 - accuracy: 0.8643\n",
      "Epoch 33/100\n",
      "250/250 [==============================] - 0s 568us/step - loss: 0.3366 - accuracy: 0.8640\n",
      "Epoch 34/100\n",
      "250/250 [==============================] - 0s 572us/step - loss: 0.3368 - accuracy: 0.8633\n",
      "Epoch 35/100\n",
      "250/250 [==============================] - 0s 564us/step - loss: 0.3361 - accuracy: 0.8640\n",
      "Epoch 36/100\n",
      "250/250 [==============================] - 0s 570us/step - loss: 0.3363 - accuracy: 0.8634\n",
      "Epoch 37/100\n",
      "250/250 [==============================] - 0s 566us/step - loss: 0.3362 - accuracy: 0.8648\n",
      "Epoch 38/100\n",
      "250/250 [==============================] - 0s 562us/step - loss: 0.3356 - accuracy: 0.8654\n",
      "Epoch 39/100\n",
      "250/250 [==============================] - 0s 568us/step - loss: 0.3358 - accuracy: 0.8637\n",
      "Epoch 40/100\n",
      "250/250 [==============================] - 0s 562us/step - loss: 0.3353 - accuracy: 0.8650\n",
      "Epoch 41/100\n",
      "250/250 [==============================] - 0s 612us/step - loss: 0.3354 - accuracy: 0.8634\n",
      "Epoch 42/100\n",
      "250/250 [==============================] - 0s 564us/step - loss: 0.3352 - accuracy: 0.8656\n",
      "Epoch 43/100\n",
      "250/250 [==============================] - 0s 569us/step - loss: 0.3355 - accuracy: 0.8659\n",
      "Epoch 44/100\n",
      "250/250 [==============================] - 0s 568us/step - loss: 0.3351 - accuracy: 0.8648\n",
      "Epoch 45/100\n",
      "250/250 [==============================] - 0s 564us/step - loss: 0.3349 - accuracy: 0.8652\n",
      "Epoch 46/100\n",
      "250/250 [==============================] - 0s 573us/step - loss: 0.3348 - accuracy: 0.8643\n",
      "Epoch 47/100\n",
      "250/250 [==============================] - 0s 564us/step - loss: 0.3348 - accuracy: 0.8648\n",
      "Epoch 48/100\n",
      "250/250 [==============================] - 0s 584us/step - loss: 0.3350 - accuracy: 0.8656\n",
      "Epoch 49/100\n",
      "250/250 [==============================] - 0s 617us/step - loss: 0.3344 - accuracy: 0.8634\n",
      "Epoch 50/100\n",
      "250/250 [==============================] - 0s 572us/step - loss: 0.3348 - accuracy: 0.8645\n",
      "Epoch 51/100\n",
      "250/250 [==============================] - 0s 567us/step - loss: 0.3346 - accuracy: 0.8637\n",
      "Epoch 52/100\n",
      "250/250 [==============================] - 0s 572us/step - loss: 0.3344 - accuracy: 0.8645\n",
      "Epoch 53/100\n",
      "250/250 [==============================] - 0s 567us/step - loss: 0.3341 - accuracy: 0.8651\n",
      "Epoch 54/100\n",
      "250/250 [==============================] - 0s 558us/step - loss: 0.3343 - accuracy: 0.8646\n",
      "Epoch 55/100\n",
      "250/250 [==============================] - 0s 564us/step - loss: 0.3342 - accuracy: 0.8636\n",
      "Epoch 56/100\n",
      "250/250 [==============================] - 0s 563us/step - loss: 0.3341 - accuracy: 0.8649\n",
      "Epoch 57/100\n",
      "250/250 [==============================] - 0s 560us/step - loss: 0.3343 - accuracy: 0.8648\n",
      "Epoch 58/100\n",
      "250/250 [==============================] - 0s 580us/step - loss: 0.3340 - accuracy: 0.8646\n",
      "Epoch 59/100\n",
      "250/250 [==============================] - 0s 563us/step - loss: 0.3340 - accuracy: 0.8639\n",
      "Epoch 60/100\n",
      "250/250 [==============================] - 0s 562us/step - loss: 0.3342 - accuracy: 0.8640\n",
      "Epoch 61/100\n",
      "250/250 [==============================] - 0s 559us/step - loss: 0.3337 - accuracy: 0.8637\n",
      "Epoch 62/100\n",
      "250/250 [==============================] - 0s 561us/step - loss: 0.3341 - accuracy: 0.8644\n",
      "Epoch 63/100\n",
      "250/250 [==============================] - 0s 567us/step - loss: 0.3338 - accuracy: 0.8648\n",
      "Epoch 64/100\n",
      "250/250 [==============================] - 0s 571us/step - loss: 0.3336 - accuracy: 0.8645\n",
      "Epoch 65/100\n",
      "250/250 [==============================] - 0s 569us/step - loss: 0.3337 - accuracy: 0.8655\n",
      "Epoch 66/100\n",
      "250/250 [==============================] - 0s 623us/step - loss: 0.3337 - accuracy: 0.8656\n",
      "Epoch 67/100\n",
      "250/250 [==============================] - 0s 574us/step - loss: 0.3337 - accuracy: 0.8646\n",
      "Epoch 68/100\n",
      "250/250 [==============================] - 0s 578us/step - loss: 0.3336 - accuracy: 0.8651\n",
      "Epoch 69/100\n",
      "250/250 [==============================] - 0s 580us/step - loss: 0.3334 - accuracy: 0.8635\n",
      "Epoch 70/100\n",
      "250/250 [==============================] - 0s 567us/step - loss: 0.3335 - accuracy: 0.8637\n",
      "Epoch 71/100\n",
      "250/250 [==============================] - 0s 568us/step - loss: 0.3338 - accuracy: 0.8650\n",
      "Epoch 72/100\n",
      "250/250 [==============================] - 0s 567us/step - loss: 0.3334 - accuracy: 0.8639\n",
      "Epoch 73/100\n",
      "250/250 [==============================] - 0s 560us/step - loss: 0.3330 - accuracy: 0.8650\n",
      "Epoch 74/100\n",
      "250/250 [==============================] - 0s 612us/step - loss: 0.3332 - accuracy: 0.8651\n",
      "Epoch 75/100\n",
      "250/250 [==============================] - 0s 563us/step - loss: 0.3334 - accuracy: 0.8644\n",
      "Epoch 76/100\n",
      "250/250 [==============================] - 0s 563us/step - loss: 0.3334 - accuracy: 0.8634\n",
      "Epoch 77/100\n",
      "250/250 [==============================] - 0s 568us/step - loss: 0.3332 - accuracy: 0.8633\n",
      "Epoch 78/100\n",
      "250/250 [==============================] - 0s 571us/step - loss: 0.3331 - accuracy: 0.8639\n",
      "Epoch 79/100\n",
      "250/250 [==============================] - 0s 565us/step - loss: 0.3330 - accuracy: 0.8656\n",
      "Epoch 80/100\n",
      "250/250 [==============================] - 0s 572us/step - loss: 0.3332 - accuracy: 0.8655\n",
      "Epoch 81/100\n",
      "250/250 [==============================] - 0s 595us/step - loss: 0.3329 - accuracy: 0.8652\n",
      "Epoch 82/100\n",
      "250/250 [==============================] - 0s 586us/step - loss: 0.3331 - accuracy: 0.8655\n",
      "Epoch 83/100\n",
      "250/250 [==============================] - 0s 571us/step - loss: 0.3330 - accuracy: 0.8651\n",
      "Epoch 84/100\n",
      "250/250 [==============================] - 0s 564us/step - loss: 0.3328 - accuracy: 0.8640\n",
      "Epoch 85/100\n",
      "250/250 [==============================] - 0s 570us/step - loss: 0.3331 - accuracy: 0.8658\n",
      "Epoch 86/100\n",
      "250/250 [==============================] - 0s 568us/step - loss: 0.3326 - accuracy: 0.8631\n",
      "Epoch 87/100\n",
      "250/250 [==============================] - 0s 563us/step - loss: 0.3329 - accuracy: 0.8651\n",
      "Epoch 88/100\n",
      "250/250 [==============================] - 0s 564us/step - loss: 0.3331 - accuracy: 0.8644\n",
      "Epoch 89/100\n",
      "250/250 [==============================] - 0s 568us/step - loss: 0.3327 - accuracy: 0.8645\n",
      "Epoch 90/100\n",
      "250/250 [==============================] - 0s 613us/step - loss: 0.3329 - accuracy: 0.8651\n",
      "Epoch 91/100\n",
      "250/250 [==============================] - 0s 584us/step - loss: 0.3328 - accuracy: 0.8640\n",
      "Epoch 92/100\n",
      "250/250 [==============================] - 0s 563us/step - loss: 0.3327 - accuracy: 0.8662\n",
      "Epoch 93/100\n",
      "250/250 [==============================] - 0s 565us/step - loss: 0.3326 - accuracy: 0.8646\n",
      "Epoch 94/100\n",
      "250/250 [==============================] - 0s 564us/step - loss: 0.3329 - accuracy: 0.8644\n",
      "Epoch 95/100\n",
      "250/250 [==============================] - 0s 571us/step - loss: 0.3324 - accuracy: 0.8654\n",
      "Epoch 96/100\n",
      "250/250 [==============================] - 0s 568us/step - loss: 0.3329 - accuracy: 0.8652\n",
      "Epoch 97/100\n",
      "250/250 [==============================] - 0s 573us/step - loss: 0.3325 - accuracy: 0.8636\n",
      "Epoch 98/100\n",
      "250/250 [==============================] - 0s 600us/step - loss: 0.3326 - accuracy: 0.8651\n",
      "Epoch 99/100\n",
      "250/250 [==============================] - 0s 576us/step - loss: 0.3328 - accuracy: 0.8635\n",
      "Epoch 100/100\n",
      "250/250 [==============================] - 0s 564us/step - loss: 0.3326 - accuracy: 0.8649\n"
     ]
    },
    {
     "data": {
      "text/plain": [
       "<keras.callbacks.History at 0x27c077670d0>"
      ]
     },
     "execution_count": 91,
     "metadata": {},
     "output_type": "execute_result"
    }
   ],
   "source": [
    "#Train Model\n",
    "ann.fit(X_train, Y_train, epochs = 100)"
   ]
  },
  {
   "cell_type": "code",
   "execution_count": 92,
   "metadata": {},
   "outputs": [
    {
     "data": {
      "text/plain": [
       "[array([[-0.8392728 ],\n",
       "        [-1.1998901 ],\n",
       "        [ 1.2809789 ],\n",
       "        [ 0.86701953],\n",
       "        [-0.25240153],\n",
       "        [ 0.9309343 ]], dtype=float32),\n",
       " array([-0.33032572], dtype=float32)]"
      ]
     },
     "execution_count": 92,
     "metadata": {},
     "output_type": "execute_result"
    }
   ],
   "source": [
    "#Weights and bias from last hidden layer to output layer\n",
    "ann.layers[2].get_weights()"
   ]
  },
  {
   "attachments": {},
   "cell_type": "markdown",
   "metadata": {},
   "source": [
    "Making a Prediction"
   ]
  },
  {
   "cell_type": "code",
   "execution_count": 93,
   "metadata": {},
   "outputs": [],
   "source": [
    "NewCustomer = np.array([[1, 0, 0, 600, 1, 40, 3, 60000, 2, 1, 1, 50000]])"
   ]
  },
  {
   "cell_type": "code",
   "execution_count": 94,
   "metadata": {},
   "outputs": [
    {
     "name": "stdout",
     "output_type": "stream",
     "text": [
      "1/1 [==============================] - 0s 45ms/step\n"
     ]
    },
    {
     "data": {
      "text/plain": [
       "array([[0.03020105]], dtype=float32)"
      ]
     },
     "execution_count": 94,
     "metadata": {},
     "output_type": "execute_result"
    }
   ],
   "source": [
    "#probability of leaving\n",
    "ann.predict(sc.transform(NewCustomer))"
   ]
  },
  {
   "cell_type": "code",
   "execution_count": 95,
   "metadata": {},
   "outputs": [
    {
     "name": "stdout",
     "output_type": "stream",
     "text": [
      "63/63 [==============================] - 0s 515us/step\n"
     ]
    }
   ],
   "source": [
    "#Test Set Results\n",
    "y_pred = ann.predict(X_test)"
   ]
  },
  {
   "cell_type": "code",
   "execution_count": 96,
   "metadata": {},
   "outputs": [],
   "source": [
    "#convert probability to Yes or No\n",
    "Y_pred = (y_pred > 0.5)"
   ]
  },
  {
   "cell_type": "code",
   "execution_count": 97,
   "metadata": {},
   "outputs": [
    {
     "data": {
      "text/plain": [
       "array([[False],\n",
       "       [False],\n",
       "       [False],\n",
       "       ...,\n",
       "       [False],\n",
       "       [False],\n",
       "       [False]])"
      ]
     },
     "execution_count": 97,
     "metadata": {},
     "output_type": "execute_result"
    }
   ],
   "source": [
    "Y_pred"
   ]
  },
  {
   "cell_type": "code",
   "execution_count": 98,
   "metadata": {},
   "outputs": [
    {
     "name": "stdout",
     "output_type": "stream",
     "text": [
      "[[0 0]\n",
      " [0 1]\n",
      " [0 0]\n",
      " ...\n",
      " [0 0]\n",
      " [0 0]\n",
      " [0 0]]\n"
     ]
    }
   ],
   "source": [
    "print(np.concatenate((Y_pred.reshape(len(Y_pred),1), Y_test.reshape(len(Y_test),1)),1))"
   ]
  },
  {
   "cell_type": "code",
   "execution_count": 99,
   "metadata": {},
   "outputs": [
    {
     "name": "stdout",
     "output_type": "stream",
     "text": [
      "[[1508   87]\n",
      " [ 192  213]]\n"
     ]
    }
   ],
   "source": [
    "#Confusion Matrix\n",
    "from sklearn.metrics import confusion_matrix\n",
    "cm = confusion_matrix(Y_test,Y_pred)\n",
    "print(cm)"
   ]
  },
  {
   "cell_type": "code",
   "execution_count": 100,
   "metadata": {},
   "outputs": [
    {
     "data": {
      "text/plain": [
       "0.8605"
      ]
     },
     "execution_count": 100,
     "metadata": {},
     "output_type": "execute_result"
    }
   ],
   "source": [
    "from sklearn.metrics import accuracy_score\n",
    "accuracy_score(Y_test, Y_pred)"
   ]
  }
 ],
 "metadata": {
  "kernelspec": {
   "display_name": "Python 3",
   "language": "python",
   "name": "python3"
  },
  "language_info": {
   "codemirror_mode": {
    "name": "ipython",
    "version": 3
   },
   "file_extension": ".py",
   "mimetype": "text/x-python",
   "name": "python",
   "nbconvert_exporter": "python",
   "pygments_lexer": "ipython3",
   "version": "3.10.6"
  },
  "orig_nbformat": 4
 },
 "nbformat": 4,
 "nbformat_minor": 2
}
